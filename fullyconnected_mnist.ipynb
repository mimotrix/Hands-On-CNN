{
 "cells": [
  {
   "cell_type": "markdown",
   "metadata": {},
   "source": [
    "### Hands on CNN\n",
    "#### By MiMoTrix\n",
    "##### MNIST with FullyConnected Network"
   ]
  },
  {
   "cell_type": "code",
   "execution_count": 2,
   "metadata": {
    "collapsed": true
   },
   "outputs": [],
   "source": [
    "import tensorflow as tf"
   ]
  },
  {
   "cell_type": "code",
   "execution_count": 4,
   "metadata": {},
   "outputs": [
    {
     "name": "stdout",
     "output_type": "stream",
     "text": [
      "Extracting MNIST_data/train-images-idx3-ubyte.gz\n"
     ]
    },
    {
     "name": "stdout",
     "output_type": "stream",
     "text": [
      "Extracting MNIST_data/train-labels-idx1-ubyte.gz\nExtracting MNIST_data/t10k-images-idx3-ubyte.gz\nExtracting MNIST_data/t10k-labels-idx1-ubyte.gz\n"
     ]
    }
   ],
   "source": [
    "from tensorflow.examples.tutorials.mnist import input_data\n",
    "mnist = input_data.read_data_sets(\"MNIST_data/\", one_hot=True)"
   ]
  },
  {
   "cell_type": "markdown",
   "metadata": {},
   "source": [
    "##### Initial Values"
   ]
  },
  {
   "cell_type": "code",
   "execution_count": 5,
   "metadata": {},
   "outputs": [],
   "source": [
    "learning_rate = 0.01\n",
    "epochs = 1000\n",
    "batch_size = 64"
   ]
  },
  {
   "cell_type": "markdown",
   "metadata": {},
   "source": [
    "##### Input Placeholders"
   ]
  },
  {
   "cell_type": "code",
   "execution_count": 6,
   "metadata": {},
   "outputs": [],
   "source": [
    "X = tf.placeholder(dtype=tf.float32, shape=(None, 784), name=\"Inputs\")\n",
    "Y = tf.placeholder(dtype=tf.float32, shape=(None, 10), name=\"Labes\")"
   ]
  },
  {
   "cell_type": "markdown",
   "metadata": {},
   "source": [
    "##### Layer One Weight and Bias Variables Initialize"
   ]
  },
  {
   "cell_type": "code",
   "execution_count": 7,
   "metadata": {},
   "outputs": [],
   "source": [
    "with tf.name_scope(name=\"HiddenLayerOne\"):\n",
    "    HiddenLayerOneWeight = tf.Variable(tf.truncated_normal([784, 500], 0, 0.1), name=\"HiddenLayerOneWeight\")\n",
    "    HiddenLayerOneBias = tf.Variable(tf.zeros([500]), name=\"HiddenLayerOneBias\")\n",
    "    HiddenLayerOneOutput = tf.nn.relu(tf.matmul(X, HiddenLayerOneWeight) + HiddenLayerOneBias)"
   ]
  },
  {
   "cell_type": "markdown",
   "metadata": {},
   "source": [
    "##### Layer Two Weight and Bias Variables Initialize"
   ]
  },
  {
   "cell_type": "code",
   "execution_count": 8,
   "metadata": {},
   "outputs": [],
   "source": [
    "with tf.name_scope(name=\"HiddenLayerTwo\"):\n",
    "    HiddenLayerTwoWeight = tf.Variable(tf.truncated_normal([500, 500], 0, 0.1), name=\"HiddenLayerTwoWeight\")\n",
    "    HiddenLayerTwoBias = tf.Variable(tf.zeros([500]), name=\"HiddenLayerTwoBias\")\n",
    "    HiddenLayerTwoOutput = tf.nn.relu(tf.matmul(HiddenLayerOneOutput, HiddenLayerTwoWeight) + HiddenLayerTwoBias)"
   ]
  },
  {
   "cell_type": "markdown",
   "metadata": {},
   "source": [
    "##### Output Layer Weight and Bias Variables Initialize"
   ]
  },
  {
   "cell_type": "code",
   "execution_count": 9,
   "metadata": {},
   "outputs": [],
   "source": [
    "with tf.name_scope(\"OutputLayer\"):\n",
    "    OutputLayerWeight = tf.Variable(tf.truncated_normal([500, 10], 0, 0.1), name=\"OutputLayerWeight\")\n",
    "    OutputLayerBias = tf.Variable(tf.zeros([10]), name=\"OutputLayerBias\")\n",
    "    OutputLayerOutput = tf.nn.softmax(tf.matmul(HiddenLayerTwoOutput, OutputLayerWeight) + OutputLayerBias)"
   ]
  },
  {
   "cell_type": "markdown",
   "metadata": {},
   "source": [
    "##### Cross Entropy, Loss Function, Accuaracy, etc."
   ]
  },
  {
   "cell_type": "code",
   "execution_count": 15,
   "metadata": {},
   "outputs": [],
   "source": [
    "with tf.name_scope(\"Loss\"):\n",
    "    crossEntropy = tf.reduce_mean(tf.nn.softmax_cross_entropy_with_logits(labels=Y, logits=OutputLayerOutput))\n",
    "with tf.name_scope(\"Training\"):\n",
    "    optimizer = tf.train.GradientDescentOptimizer(learning_rate).minimize(crossEntropy)\n",
    "with tf.name_scope(\"Accuracy\"):\n",
    "    prediction = tf.equal(tf.argmax(OutputLayerOutput, 1), tf.argmax(Y, 1))\n",
    "    accOp = tf.reduce_mean(tf.cast(prediction, dtype=tf.float32), name=\"Accuracy\")"
   ]
  },
  {
   "cell_type": "markdown",
   "metadata": {},
   "source": [
    "##### Session"
   ]
  },
  {
   "cell_type": "code",
   "execution_count": 27,
   "metadata": {},
   "outputs": [],
   "source": [
    "tf.summary.scalar(\"CrossEntropy\", crossEntropy)\n",
    "tf.summary.scalar(\"TrainingAccuracy\", accOp)\n",
    "\n",
    "merge = tf.summary.merge_all()\n",
    "filewriter = tf.summary.FileWriter(\"./graphs\")\n",
    "sess = tf.Session()\n",
    "filewriter.add_graph(sess.graph)\n",
    "\n",
    "sess.run(tf.global_variables_initializer())"
   ]
  },
  {
   "cell_type": "markdown",
   "metadata": {},
   "source": [
    "##### Train"
   ]
  },
  {
   "cell_type": "code",
   "execution_count": 28,
   "metadata": {
    "collapsed": false
   },
   "outputs": [],
   "source": [
    "acc = tf.summary.scalar(\"AccuracyValidation\", accOp)\n",
    "for iteration in range(epochs):\n",
    "    X_Batch, Y_Batch = mnist.train.next_batch(batch_size)\n",
    "    sess.run(optimizer, feed_dict={X: X_Batch, Y: Y_Batch})\n",
    "    if iteration % 50 == 0:\n",
    "        validation = (sess.run(merge, feed_dict={X: X_Batch, Y: Y_Batch}))\n",
    "        filewriter.add_summary(validation, iteration)\n",
    "        X_Batch_Validation, Y_Batch_Validation = mnist.validation.next_batch(batch_size)\n",
    "        validation = (sess.run(acc, feed_dict={X: X_Batch_Validation, Y: Y_Batch_Validation}))\n",
    "        filewriter.add_summary(validation, iteration)"
   ]
  },
  {
   "cell_type": "markdown",
   "metadata": {},
   "source": [
    "##### Total Accuracy"
   ]
  },
  {
   "cell_type": "code",
   "execution_count": 29,
   "metadata": {},
   "outputs": [
    {
     "name": "stdout",
     "output_type": "stream",
     "text": [
      "Total Accuracy is 0.7679\n"
     ]
    }
   ],
   "source": [
    "outputValidation = sess.run(OutputLayerOutput, feed_dict={X: mnist.test.images})\n",
    "[totalAcc] = sess.run([accOp], feed_dict={OutputLayerOutput: outputValidation, Y: mnist.test.labels})\n",
    "print(\"Total Accuracy is \" + str(totalAcc))\n",
    "sess.close()\n",
    "filewriter.close()"
   ]
  },
  {
   "cell_type": "code",
   "execution_count": null,
   "metadata": {},
   "outputs": [],
   "source": []
  }
 ],
 "metadata": {
  "kernelspec": {
   "display_name": "Python 3",
   "language": "python",
   "name": "python3"
  },
  "language_info": {
   "codemirror_mode": {
    "name": "ipython",
    "version": 3
   },
   "file_extension": ".py",
   "mimetype": "text/x-python",
   "name": "python",
   "nbconvert_exporter": "python",
   "pygments_lexer": "ipython3",
   "version": "3.6.5"
  }
 },
 "nbformat": 4,
 "nbformat_minor": 1
}
