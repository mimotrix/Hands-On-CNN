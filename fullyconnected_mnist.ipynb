{
 "cells": [
  {
   "cell_type": "markdown",
   "metadata": {},
   "source": [
    "### Deep Learning Up and Running\n",
    "#### By MiMoTrix\n",
    "##### MNIST with FullyConnected Network"
   ]
  },
  {
   "cell_type": "code",
   "execution_count": 19,
   "metadata": {
    "collapsed": true
   },
   "outputs": [],
   "source": [
    "import tensorflow as tf\n",
    "import time\n"
   ]
  },
  {
   "cell_type": "code",
   "execution_count": 12,
   "metadata": {},
   "outputs": [
    {
     "name": "stdout",
     "output_type": "stream",
     "text": [
      "Extracting MNIST_data/train-images-idx3-ubyte.gz\n"
     ]
    },
    {
     "name": "stdout",
     "output_type": "stream",
     "text": [
      "Extracting MNIST_data/train-labels-idx1-ubyte.gz\nExtracting MNIST_data/t10k-images-idx3-ubyte.gz\nExtracting MNIST_data/t10k-labels-idx1-ubyte.gz\n"
     ]
    }
   ],
   "source": [
    "from tensorflow.examples.tutorials.mnist import input_data\n",
    "mnist = input_data.read_data_sets(\"MNIST_data/\", one_hot=True)"
   ]
  },
  {
   "cell_type": "code",
   "execution_count": 16,
   "metadata": {},
   "outputs": [],
   "source": [
    "learning_rate = 0.01\n",
    "epochs = 30\n",
    "batch_size = 100"
   ]
  },
  {
   "cell_type": "markdown",
   "metadata": {},
   "source": [
    "##### Weight Variables Initialize"
   ]
  },
  {
   "cell_type": "code",
   "execution_count": 18,
   "metadata": {},
   "outputs": [],
   "source": [
    "def weight_variable(shape):\n",
    "    initial = tf.truncated_normal(shape, stddev=0.01)\n",
    "    return tf.Variable(initial)"
   ]
  },
  {
   "cell_type": "markdown",
   "metadata": {},
   "source": [
    "##### Bias Variables Initialize"
   ]
  },
  {
   "cell_type": "code",
   "execution_count": 20,
   "metadata": {},
   "outputs": [],
   "source": [
    "def bias_variable(shape):\n",
    "    initial = tf.constant(0.0, shape=shape)\n",
    "    return tf.Variable(initial)"
   ]
  },
  {
   "cell_type": "markdown",
   "metadata": {},
   "source": [
    "##### Inputs"
   ]
  },
  {
   "cell_type": "code",
   "execution_count": 37,
   "metadata": {},
   "outputs": [],
   "source": [
    "X = tf.placeholder(tf.float32, [None, 784])\n",
    "Y = tf.placeholder(tf.float32, [None, 10])\n",
    "\n",
    "KeepProbInput = tf.placeholder(tf.float32) # Against Biasing\n",
    "X_Drop = tf.nn.dropout(X, keep_prob=KeepProbInput)\n",
    "Weights_HL_One = weight_variable([784, 500])\n",
    "Biases_HL_One = bias_variable([500])\n",
    "Output_HL_One = tf.nn.relu(tf.matmul(X_Drop, Weights_HL_One) + Biases_HL_One)\n",
    "\n",
    "KeepProb = tf.placeholder(tf.float32) # Against Biasing\n",
    "Output_Drop_LayerOne = tf.nn.dropout(Output_HL_One, keep_prob=KeepProb)\n",
    "Weights_HL_Two = weight_variable([500, 500])\n",
    "Biases_HL_Two = bias_variable([500])\n",
    "Output_HL_Two = tf.nn.relu(tf.matmul(Output_Drop_LayerOne, Weights_HL_Two) + Biases_HL_Two)\n",
    "\n",
    "Output_Drop_LayerTwo = tf.nn.dropout(Output_HL_Two, KeepProbInput)\n",
    "Weights_HL_Output = weight_variable([500, 10])\n",
    "Biases_HL_Output = bias_variable([10])\n",
    "Y_Predicted = tf.nn.softmax(tf.matmul(Output_Drop_LayerTwo, Weights_HL_Output) + Biases_HL_Output)"
   ]
  },
  {
   "cell_type": "markdown",
   "metadata": {},
   "source": [
    "##### Cross Entropy, Loss Function, Accuaracy, etc."
   ]
  },
  {
   "cell_type": "code",
   "execution_count": 38,
   "metadata": {
    "collapsed": false
   },
   "outputs": [],
   "source": [
    "crossEntropy = tf.reduce_mean(tf.nn.softmax_cross_entropy_with_logits(labels=Y, logits=Y_Predicted))\n",
    "trainStep = tf.train.GradientDescentOptimizer(learning_rate).minimize(crossEntropy)\n",
    "correctPrediction = tf.equal(tf.argmax(Y_Predicted, 1), tf.argmax(Y, 1))\n",
    "accuracy = tf.reduce_mean(tf.cast(correctPrediction, tf.float32))\n"
   ]
  },
  {
   "cell_type": "markdown",
   "metadata": {},
   "source": [
    "##### Session Run "
   ]
  },
  {
   "cell_type": "code",
   "execution_count": 39,
   "metadata": {},
   "outputs": [
    {
     "name": "stdout",
     "output_type": "stream",
     "text": [
      "Startin Burn-In...\n"
     ]
    }
   ],
   "source": [
    "init = tf.global_variables_initializer()\n",
    "sess = tf.Session()\n",
    "sess.run(init)\n",
    "batchSize = 100\n",
    "print(\"Startin Burn-In...\")"
   ]
  },
  {
   "cell_type": "markdown",
   "metadata": {},
   "source": [
    "##### Execute"
   ]
  },
  {
   "cell_type": "code",
   "execution_count": null,
   "metadata": {},
   "outputs": [
    {
     "name": "stdout",
     "output_type": "stream",
     "text": [
      "step 0, training accuracy 0.17\n"
     ]
    },
    {
     "name": "stdout",
     "output_type": "stream",
     "text": [
      "Validation accuracy: 0.1135.\n"
     ]
    },
    {
     "name": "stdout",
     "output_type": "stream",
     "text": [
      "step 600, training accuracy 0.06\n"
     ]
    },
    {
     "name": "stdout",
     "output_type": "stream",
     "text": [
      "Validation accuracy: 0.1135.\n"
     ]
    },
    {
     "name": "stdout",
     "output_type": "stream",
     "text": [
      "Starting the training...\nstep 0, training accuracy 0.14\n"
     ]
    },
    {
     "name": "stdout",
     "output_type": "stream",
     "text": [
      "Validation accuracy improved: 0.1135. Saving the network.\n"
     ]
    },
    {
     "name": "stdout",
     "output_type": "stream",
     "text": [
      "step 600, training accuracy 0.08\n"
     ]
    },
    {
     "name": "stdout",
     "output_type": "stream",
     "text": [
      "Validation accuracy improved: 0.1135. Saving the network.\n"
     ]
    },
    {
     "name": "stdout",
     "output_type": "stream",
     "text": [
      "step 1200, training accuracy 0.11\n"
     ]
    },
    {
     "name": "stdout",
     "output_type": "stream",
     "text": [
      "Validation accuracy improved: 0.1135. Saving the network.\n"
     ]
    },
    {
     "name": "stdout",
     "output_type": "stream",
     "text": [
      "step 1800, training accuracy 0.13\n"
     ]
    },
    {
     "name": "stdout",
     "output_type": "stream",
     "text": [
      "Validation accuracy improved: 0.1135. Saving the network.\n"
     ]
    },
    {
     "name": "stdout",
     "output_type": "stream",
     "text": [
      "step 2400, training accuracy 0.14\n"
     ]
    },
    {
     "name": "stdout",
     "output_type": "stream",
     "text": [
      "Validation accuracy improved: 0.1135. Saving the network.\n"
     ]
    },
    {
     "name": "stdout",
     "output_type": "stream",
     "text": [
      "step 3000, training accuracy 0.09\n"
     ]
    },
    {
     "name": "stdout",
     "output_type": "stream",
     "text": [
      "Validation accuracy improved: 0.1135. Saving the network.\n"
     ]
    },
    {
     "name": "stdout",
     "output_type": "stream",
     "text": [
      "step 3600, training accuracy 0.14\n"
     ]
    },
    {
     "name": "stdout",
     "output_type": "stream",
     "text": [
      "Validation accuracy improved: 0.1135. Saving the network.\n"
     ]
    },
    {
     "name": "stdout",
     "output_type": "stream",
     "text": [
      "step 4200, training accuracy 0.1\n"
     ]
    },
    {
     "name": "stdout",
     "output_type": "stream",
     "text": [
      "Validation accuracy improved: 0.1135. Saving the network.\n"
     ]
    },
    {
     "name": "stdout",
     "output_type": "stream",
     "text": [
      "step 4800, training accuracy 0.07\n"
     ]
    },
    {
     "name": "stdout",
     "output_type": "stream",
     "text": [
      "Validation accuracy improved: 0.1135. Saving the network.\n"
     ]
    },
    {
     "name": "stdout",
     "output_type": "stream",
     "text": [
      "step 5400, training accuracy 0.1\n"
     ]
    },
    {
     "name": "stdout",
     "output_type": "stream",
     "text": [
      "Validation accuracy improved: 0.1135. Saving the network.\n"
     ]
    },
    {
     "name": "stdout",
     "output_type": "stream",
     "text": [
      "step 6000, training accuracy 0.19\n"
     ]
    },
    {
     "name": "stdout",
     "output_type": "stream",
     "text": [
      "Validation accuracy improved: 0.1177. Saving the network.\n"
     ]
    },
    {
     "name": "stdout",
     "output_type": "stream",
     "text": [
      "step 6600, training accuracy 0.11\n"
     ]
    },
    {
     "name": "stdout",
     "output_type": "stream",
     "text": [
      "Validation accuracy improved: 0.1321. Saving the network.\n"
     ]
    },
    {
     "name": "stdout",
     "output_type": "stream",
     "text": [
      "step 7200, training accuracy 0.13\n"
     ]
    },
    {
     "name": "stdout",
     "output_type": "stream",
     "text": [
      "Validation accuracy improved: 0.1597. Saving the network.\n"
     ]
    },
    {
     "name": "stdout",
     "output_type": "stream",
     "text": [
      "step 7800, training accuracy 0.26\n"
     ]
    },
    {
     "name": "stdout",
     "output_type": "stream",
     "text": [
      "Validation accuracy improved: 0.1941. Saving the network.\n"
     ]
    },
    {
     "name": "stdout",
     "output_type": "stream",
     "text": [
      "step 8400, training accuracy 0.31\n"
     ]
    },
    {
     "name": "stdout",
     "output_type": "stream",
     "text": [
      "Validation accuracy improved: 0.2237. Saving the network.\n"
     ]
    },
    {
     "name": "stdout",
     "output_type": "stream",
     "text": [
      "step 9000, training accuracy 0.21\n"
     ]
    },
    {
     "name": "stdout",
     "output_type": "stream",
     "text": [
      "Validation accuracy improved: 0.2254. Saving the network.\n"
     ]
    },
    {
     "name": "stdout",
     "output_type": "stream",
     "text": [
      "step 9600, training accuracy 0.23\n"
     ]
    },
    {
     "name": "stdout",
     "output_type": "stream",
     "text": [
      "Validation accuracy was: 0.2137. It was better before: 0.2254. Using the old params for further optimizations.\n"
     ]
    },
    {
     "name": "stdout",
     "output_type": "stream",
     "text": [
      "step 10200, training accuracy 0.18\n"
     ]
    },
    {
     "name": "stdout",
     "output_type": "stream",
     "text": [
      "Validation accuracy was: 0.2091. It was better before: 0.2254. Using the old params for further optimizations.\n"
     ]
    },
    {
     "name": "stdout",
     "output_type": "stream",
     "text": [
      "step 10800, training accuracy 0.2\n"
     ]
    },
    {
     "name": "stdout",
     "output_type": "stream",
     "text": [
      "Validation accuracy was: 0.2011. It was better before: 0.2254. Using the old params for further optimizations.\n"
     ]
    },
    {
     "name": "stdout",
     "output_type": "stream",
     "text": [
      "step 11400, training accuracy 0.19\n"
     ]
    },
    {
     "name": "stdout",
     "output_type": "stream",
     "text": [
      "Validation accuracy was: 0.1886. It was better before: 0.2254. Using the old params for further optimizations.\n"
     ]
    },
    {
     "name": "stdout",
     "output_type": "stream",
     "text": [
      "The training took 67.0380 seconds.\nBest test accuracy: 0.2254\n"
     ]
    }
   ],
   "source": [
    "for i in range(700):\n",
    "    input_images, correct_predictions = mnist.train.next_batch(batchSize)\n",
    "    if i % (60000/batch_size) == 0:\n",
    "        train_accuracy = sess.run(accuracy, feed_dict={\n",
    "            X: input_images, Y: correct_predictions, KeepProbInput: 1.0, KeepProb: 1.0})\n",
    "        print(\"step %d, training accuracy %g\" % (i, train_accuracy))\n",
    "        # validate\n",
    "        test_accuracy = sess.run(accuracy, feed_dict={\n",
    "            X: mnist.test.images, Y: mnist.test.labels, KeepProbInput: 1.0, KeepProb: 1.0})\n",
    "        print(\"Validation accuracy: %g.\" % test_accuracy)\n",
    "    sess.run(trainStep, feed_dict={X: input_images, Y: correct_predictions, KeepProbInput: 0.8, KeepProb: 0.5})\n",
    "print(\"Starting the training...\")\n",
    "start_time = time.time()\n",
    "best_accuracy = 0.0\n",
    "for i in range(int((20*60000)/batchSize)):\n",
    "    input_images, correct_predictions = mnist.train.next_batch(batch_size)\n",
    "    if i % (60000/batch_size) == 0:\n",
    "        train_accuracy = sess.run(accuracy, feed_dict={\n",
    "            X: input_images, Y: correct_predictions, KeepProbInput: 1.0, KeepProb: 1.0})\n",
    "        print(\"step %d, training accuracy %g\" % (i, train_accuracy))\n",
    "        # validate\n",
    "        test_accuracy = sess.run(accuracy, feed_dict={\n",
    "            X: mnist.test.images, Y: mnist.test.labels, KeepProbInput: 1.0, KeepProb: 1.0})\n",
    "        if test_accuracy >= best_accuracy:\n",
    "            best_accuracy = test_accuracy\n",
    "            print(\"Validation accuracy improved: %g.\" % test_accuracy)\n",
    "        else:\n",
    "            print(\"Validation accuracy was: %g. It was better before: %g. \" % (test_accuracy, best_accuracy) +\n",
    "                  \"Using the old params for further optimizations.\")\n",
    "    sess.run(trainStep, feed_dict={X: input_images, Y: correct_predictions, KeepProbInput: 0.8, KeepProb: 0.5})\n",
    "print(\"The training took %.4f seconds.\" % (time.time() - start_time))\n",
    "\n",
    "# validate\n",
    "print(\"Best test accuracy: %g\" % best_accuracy)"
   ]
  },
  {
   "cell_type": "code",
   "execution_count": null,
   "metadata": {},
   "outputs": [],
   "source": []
  }
 ],
 "metadata": {
  "kernelspec": {
   "display_name": "Python 2",
   "language": "python",
   "name": "python2"
  },
  "language_info": {
   "codemirror_mode": {
    "name": "ipython",
    "version": 2
   },
   "file_extension": ".py",
   "mimetype": "text/x-python",
   "name": "python",
   "nbconvert_exporter": "python",
   "pygments_lexer": "ipython2",
   "version": "2.7.6"
  }
 },
 "nbformat": 4,
 "nbformat_minor": 0
}
